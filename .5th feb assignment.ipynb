{
 "cells": [
  {
   "cell_type": "markdown",
   "id": "ba6c91f5-d32e-437b-a67e-0acbabcd36d0",
   "metadata": {},
   "source": [
    "Q1. Explian class and object with respect to Object-Oriented Programing. Give a suitable example.\n",
    "\n",
    "Ans.Class: Class is a logical entity.Class can only be declared once.Example of class can be car.\n",
    "Object: Object is a physical entity.Object can be created many times as per requirement.Objects of the class car can be BMW, Mercedes, jaguar, etc."
   ]
  },
  {
   "cell_type": "markdown",
   "id": "ff58a9a4-ca36-49c0-9267-67aefe972bb0",
   "metadata": {},
   "source": [
    "Q2. Name the four pillars of oops.\n",
    "\n",
    "Ans.Four pillars of oops are Inheritance, Polymorphism, Encapsulation and Abstraction."
   ]
  },
  {
   "cell_type": "markdown",
   "id": "f5a05762-ff95-4d7e-bef9-c3c958e26b25",
   "metadata": {},
   "source": [
    "Q3. Explain why the init()function is used. Give a suitable example.\n",
    "\n",
    "Ans. The Default init Constructor in python. Constructors are used to initializing the object’s state. The task of constructors is to initialize(assign values) to the data members of the class when an object of the class is created. Like methods, a constructor also contains a collection of statements(i.e. instructions) that are executed at the time of Object creation. It is run as soon as an object of a class is instantiated. The method is useful to do any initialization you want to do with your object.\n",
    "\n",
    "Example:"
   ]
  },
  {
   "cell_type": "code",
   "execution_count": 8,
   "id": "bfe535ac-8c16-4050-971b-5aad1aeaebd8",
   "metadata": {},
   "outputs": [
    {
     "name": "stdout",
     "output_type": "stream",
     "text": [
      "A init called\n",
      "B init called\n"
     ]
    }
   ],
   "source": [
    "class A(object):\n",
    "    def __init__(self, something):\n",
    "        print(\"A init called\")\n",
    "        self.something = something\n",
    " \n",
    " \n",
    "class B(A):\n",
    "    def __init__(self, something):\n",
    "        # Calling init of parent class\n",
    "        A.__init__(self, something)\n",
    "        print(\"B init called\")\n",
    "        self.something = something\n",
    " \n",
    " \n",
    "obj = B(\"Something\")"
   ]
  },
  {
   "cell_type": "markdown",
   "id": "e793fd6b-2554-418d-9932-dd829296ab77",
   "metadata": {},
   "source": [
    "Q4. Why self is used in oops?\n",
    "\n",
    "Ans.The self variable is used to represent the instance of the class which is often used in object-oriented programming. It works as a reference to the object."
   ]
  },
  {
   "cell_type": "markdown",
   "id": "3ab21d7f-5461-4319-8ed8-28e7a166dfaa",
   "metadata": {},
   "source": [
    "Q5. What is inheritance? Give an example for each type of inheritance."
   ]
  },
  {
   "cell_type": "markdown",
   "id": "eb1d675b-d302-4fef-a718-7c5f43c5b195",
   "metadata": {},
   "source": [
    "Ans.Inheritance is a process of obtaining properties and characteristics(variables and methods) of another class. In this hierarchical order, the class which inherits another class is called subclass or child class, and the other class is the parent class."
   ]
  },
  {
   "cell_type": "markdown",
   "id": "120ac01f-b9fa-4493-a589-a4e26f816db1",
   "metadata": {},
   "source": [
    "There are five types of inheritances:\n",
    "\n",
    "1.Single Inheritance\n",
    "2.Multiple Inheritance\n",
    "3.Multilevel Inheritance\n",
    "4.Hierarchical inheritance\n",
    "5.Hybrid Inheritance"
   ]
  },
  {
   "cell_type": "markdown",
   "id": "be581c18-a0a5-40f8-ab67-aba7b0e4d158",
   "metadata": {},
   "source": [
    "1.Single Inheritance"
   ]
  },
  {
   "cell_type": "code",
   "execution_count": 9,
   "id": "39394ab7-6401-442a-9a44-cdfff16f2ea5",
   "metadata": {},
   "outputs": [
    {
     "data": {
      "text/plain": [
       "'this is my first class'"
      ]
     },
     "execution_count": 9,
     "metadata": {},
     "output_type": "execute_result"
    }
   ],
   "source": [
    "class parent:\n",
    "    def parent_cl(self):\n",
    "        return \"this is my first class\"\n",
    "    \n",
    "class child(parent):\n",
    "    pass\n",
    "\n",
    "child_object = child()\n",
    "child_object.parent_cl()"
   ]
  },
  {
   "cell_type": "markdown",
   "id": "a0e05ca5-e0b7-4de1-8160-901936fe7ec7",
   "metadata": {},
   "source": [
    "2.Multiple Inheritance"
   ]
  },
  {
   "cell_type": "code",
   "execution_count": 1,
   "id": "2a54778a-ede8-4211-883c-a4005cb37997",
   "metadata": {},
   "outputs": [
    {
     "data": {
      "text/plain": [
       "'this is my mother class'"
      ]
     },
     "execution_count": 1,
     "metadata": {},
     "output_type": "execute_result"
    }
   ],
   "source": [
    "class father:\n",
    "    def fa_cl(self):\n",
    "        return \"this is my father class\"\n",
    "    \n",
    "class mother:\n",
    "    def mo_cl(self):\n",
    "        return \"this is my mother class\"\n",
    "    \n",
    "class child(father , mother):\n",
    "    pass\n",
    "\n",
    "c = child()\n",
    "c.fa_cl()"
   ]
  },
  {
   "cell_type": "markdown",
   "id": "87294fcc-814a-436d-a5fa-1f8fc6415b25",
   "metadata": {},
   "source": [
    "3.Multilevel Inheritance"
   ]
  },
  {
   "cell_type": "code",
   "execution_count": 14,
   "id": "b964ccfc-d89e-4c59-a506-fa9bf8b3c257",
   "metadata": {},
   "outputs": [
    {
     "data": {
      "text/plain": [
       "'this is my grandfather class'"
      ]
     },
     "execution_count": 14,
     "metadata": {},
     "output_type": "execute_result"
    }
   ],
   "source": [
    "class grandfather:\n",
    "    def gr_cl(self):\n",
    "        return \"this is my grandfather class\"\n",
    "    \n",
    "class father(grandfather):\n",
    "    def fa_cl(self):\n",
    "        return \"this is my father class\"\n",
    "    \n",
    "class child(father):\n",
    "    pass\n",
    "\n",
    "c = child()\n",
    "c.gr_cl()"
   ]
  },
  {
   "cell_type": "markdown",
   "id": "0fd44a5e-c933-44b8-a615-362e6b313825",
   "metadata": {},
   "source": [
    "4.Hierarchical inheritance"
   ]
  },
  {
   "cell_type": "code",
   "execution_count": 4,
   "id": "eac6cb25-d24d-4644-96c8-0b6e7be3eab7",
   "metadata": {},
   "outputs": [
    {
     "name": "stdout",
     "output_type": "stream",
     "text": [
      "my name is isha  khaitan\n",
      "my name is tanisha  khaitan\n"
     ]
    }
   ],
   "source": [
    "class father:\n",
    "    surname =\"khaitan\"\n",
    "    def s(self):\n",
    "        print(\"my name is raj kumar \", surname)\n",
    "        \n",
    "class daughter1(father):\n",
    "    def i(self):\n",
    "        print(\"my name is isha \",self.surname)\n",
    "        \n",
    "class daughter2(father):\n",
    "    def t(self):\n",
    "        print(\"my name is tanisha \",self.surname)\n",
    "        \n",
    "        \n",
    "i1 = daughter1()\n",
    "t1 = daughter2()\n",
    "\n",
    "i1.i()\n",
    "t1.t()\n",
    "\n",
    "\n",
    "\n"
   ]
  },
  {
   "cell_type": "markdown",
   "id": "cb35b57c-26a1-489e-8cf6-e20f4f7538c2",
   "metadata": {},
   "source": [
    "5. Hyrid inheritance"
   ]
  },
  {
   "cell_type": "code",
   "execution_count": 7,
   "id": "565eab72-40d7-4943-a5cb-36b3fe7ee18f",
   "metadata": {},
   "outputs": [
    {
     "name": "stdout",
     "output_type": "stream",
     "text": [
      "this is class e and can inherit the value of class f and class g\n",
      "this is class f\n",
      "this is class g\n",
      "this is class b and can inherit value of class f only\n",
      "this is class f\n"
     ]
    }
   ],
   "source": [
    "class f():\n",
    "    def call(self):\n",
    "        print(\"this is class f\")\n",
    "        \n",
    "class g():\n",
    "    def sell(self):\n",
    "        print(\"this is class g\")\n",
    "        \n",
    "class e(f,g):\n",
    "    def hi(self):\n",
    "        print(\"this is class e and can inherit the value of class f and class g\")\n",
    "        \n",
    "        \n",
    "class b(f):\n",
    "    def say(self):\n",
    "        print(\"this is class b and can inherit value of class f only\")\n",
    "        \n",
    "e1 = e()\n",
    "b1 = b()\n",
    "\n",
    "e1.hi()\n",
    "e1.call()\n",
    "e1.sell()\n",
    "\n",
    "b1.say()\n",
    "b1.call()\n",
    "\n",
    "\n",
    "    "
   ]
  },
  {
   "cell_type": "code",
   "execution_count": null,
   "id": "3b4c05e7-027c-49c1-aa48-fe6f82f9b6cb",
   "metadata": {},
   "outputs": [],
   "source": []
  }
 ],
 "metadata": {
  "kernelspec": {
   "display_name": "Python 3 (ipykernel)",
   "language": "python",
   "name": "python3"
  },
  "language_info": {
   "codemirror_mode": {
    "name": "ipython",
    "version": 3
   },
   "file_extension": ".py",
   "mimetype": "text/x-python",
   "name": "python",
   "nbconvert_exporter": "python",
   "pygments_lexer": "ipython3",
   "version": "3.10.8"
  }
 },
 "nbformat": 4,
 "nbformat_minor": 5
}
