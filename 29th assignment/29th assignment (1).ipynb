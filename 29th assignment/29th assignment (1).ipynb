{
 "cells": [
  {
   "cell_type": "markdown",
   "id": "527147bf-cb30-4d2f-9ded-752ba9668a0c",
   "metadata": {},
   "source": [
    "Q1. Who developed Python Programming Language?\n",
    "}"
   ]
  },
  {
   "cell_type": "markdown",
   "id": "132c121a-d673-4dd5-922e-02a9225abf09",
   "metadata": {},
   "source": [
    "Ans. Guido van Rossumdeveloped Python Programming Language.\n"
   ]
  },
  {
   "cell_type": "markdown",
   "id": "9d5d385c-317d-4182-ab7a-29e2be230f49",
   "metadata": {},
   "source": [
    "Q2. Which type of programming does python support?"
   ]
  },
  {
   "cell_type": "markdown",
   "id": "269a92a1-1c15-45c8-b3f0-e6432f0ca45c",
   "metadata": {},
   "source": [
    "Ans. Python is an interpreted programming language, supporting object- oriented, structured, and functional programming."
   ]
  },
  {
   "cell_type": "markdown",
   "id": "62b330f3-2aac-4762-9f71-d4e5f47ddaff",
   "metadata": {},
   "source": [
    "Q3. Is python case sensitive when dealing with identifiers?"
   ]
  },
  {
   "cell_type": "markdown",
   "id": "4d3ae2fc-f0f0-40c2-a302-003175acd365",
   "metadata": {},
   "source": [
    "Ans . Yes, the python is case sensitive when dealing with identifiers."
   ]
  },
  {
   "cell_type": "markdown",
   "id": "53cc6c95-0015-43f9-ac8b-a994672aefe3",
   "metadata": {},
   "source": [
    "Q4. What is the correct extension of the python file?\n",
    "\n"
   ]
  },
  {
   "cell_type": "markdown",
   "id": "5e5b582f-0122-4a9b-aa46-8170f960f19f",
   "metadata": {},
   "source": [
    "Ans. The correct extension of python file are - .py."
   ]
  },
  {
   "cell_type": "markdown",
   "id": "f32f1b25-24f7-46b8-89a1-4b3df7f9759f",
   "metadata": {},
   "source": [
    "Q5. Is python compiled or interpreted?"
   ]
  },
  {
   "cell_type": "markdown",
   "id": "0cc3527b-7a21-41d0-814a-2fc6e3560b19",
   "metadata": {},
   "source": [
    "Ans. Python is interpreted."
   ]
  },
  {
   "cell_type": "markdown",
   "id": "5e4447a0-7da7-40c5-9497-88246eb4b1a5",
   "metadata": {},
   "source": [
    "Q6. Name the few blocks of code used to define in python language?"
   ]
  },
  {
   "cell_type": "markdown",
   "id": "08441fff-7fbe-4de1-9faf-83abd4d03947",
   "metadata": {},
   "source": [
    "Ans. Indentation is the few blocks of code used to define in python languages."
   ]
  },
  {
   "cell_type": "markdown",
   "id": "f5747670-f427-4d08-a8e0-95c9a89afe6d",
   "metadata": {},
   "source": [
    "Q7. State a character used to give single- line comments in python?"
   ]
  },
  {
   "cell_type": "markdown",
   "id": "2c17e204-ad4f-4809-9eb5-9f4c0977fba8",
   "metadata": {},
   "source": [
    "Ans. Hash character(#) is used to give single line comments in python."
   ]
  },
  {
   "cell_type": "markdown",
   "id": "34bd198e-d43c-4d8c-8b2e-b3ae0564ec54",
   "metadata": {},
   "source": [
    "Q8. Mention functions which can help us to to find the version of python that we are currently working on?"
   ]
  },
  {
   "cell_type": "markdown",
   "id": "2a0006a0-b035-4f23-8feb-5c1c446b0ba2",
   "metadata": {},
   "source": [
    "Ans.  The function sys.version can help us to find the version of python that we are currently working on"
   ]
  },
  {
   "cell_type": "markdown",
   "id": "27598f43-b8c1-4c54-bd7d-f80678b48956",
   "metadata": {},
   "source": [
    "Q9. Python supports the creation of anonymous functions at runtime, using a construct called-."
   ]
  },
  {
   "cell_type": "markdown",
   "id": "08068de7-6be3-40d2-824a-17e6e893bfe5",
   "metadata": {},
   "source": [
    "Ans. lambda"
   ]
  },
  {
   "cell_type": "markdown",
   "id": "c1940774-f17c-4c7d-b18d-22d149f1518a",
   "metadata": {},
   "source": [
    "Q10. Wha does pip stand for python?\n"
   ]
  },
  {
   "cell_type": "markdown",
   "id": "a3673c7a-200e-4cfd-94b5-be6566e8aa92",
   "metadata": {},
   "source": [
    "Ans. pip - Preferred installer program."
   ]
  },
  {
   "cell_type": "markdown",
   "id": "cb2611fd-9da6-4da9-8ee5-8780996c488b",
   "metadata": {},
   "source": [
    "Q11. Mention a few built- in functions in python?"
   ]
  },
  {
   "cell_type": "markdown",
   "id": "fccf24b4-3599-46f6-9692-a3a566c59196",
   "metadata": {},
   "source": [
    "Ans. Few buily- in functions in python are -bin(), bool(), float(), format(), hex(), input(), int(), and many more."
   ]
  },
  {
   "cell_type": "markdown",
   "id": "d655006c-0f25-4216-9502-7e58ffd89a8c",
   "metadata": {},
   "source": [
    "Q12. What are the maximum possible length of an identifiers in python?"
   ]
  },
  {
   "cell_type": "markdown",
   "id": "c931060e-cad0-4234-9e23-41af8bc858af",
   "metadata": {},
   "source": [
    "Ans. 79 characters are the maximum possible length of an identifiers in python."
   ]
  },
  {
   "cell_type": "markdown",
   "id": "0a3f917d-b5a5-42d9-a2a3-3084e0191052",
   "metadata": {},
   "source": [
    "Q13. What are the benefits of using python? "
   ]
  },
  {
   "cell_type": "markdown",
   "id": "d4d336d9-7840-4565-84e1-c93e59e95ec9",
   "metadata": {},
   "source": [
    "Ans. The benefits of python are , \n",
    "easy to read,\n",
    "portable,\n",
    "expressive,\n",
    "extensible, \n",
    "interpreted, and many more."
   ]
  },
  {
   "cell_type": "markdown",
   "id": "46e4edcf-6455-4ea8-8812-0021a7a50114",
   "metadata": {},
   "source": [
    "Q14. How is memory managed in python?"
   ]
  },
  {
   "cell_type": "markdown",
   "id": "516eff49-c76f-4c13-a003-33ed8107cf38",
   "metadata": {},
   "source": [
    "Ans. Memory management in python involves a private heap containing all python objects and data structures. The managements of this private heap is ensured internally by the python memory manager."
   ]
  },
  {
   "cell_type": "markdown",
   "id": "819dd36d-df8c-40ac-97ed-a4763f75867d",
   "metadata": {},
   "source": [
    "Q15. How to install python on windows and set path variables?"
   ]
  },
  {
   "cell_type": "markdown",
   "id": "fb10d66d-3ea0-4414-836d-b876b24740ed",
   "metadata": {},
   "source": [
    "Ans. 1.Right-clicking This PC and going to Properties.\n",
    "\n",
    "2.Clicking on the Advanced system settings in the menu on the left.\n",
    "\n",
    "3.Clicking on the Environment Variables button on the bottom right.\n",
    "\n",
    "4.In the System variables section, selecting the Path variable and clicking on Edit. The next screen will show all the directories that are currently a part of the PATH variable.\n",
    "\n",
    "5.Clicking on New and entering Python’s install directory."
   ]
  },
  {
   "cell_type": "markdown",
   "id": "1de52876-4fb8-4900-b797-14b675e24f10",
   "metadata": {},
   "source": [
    "Q16. Is indentation required in python?\n"
   ]
  },
  {
   "cell_type": "markdown",
   "id": "a1951576-b436-48ad-8cb5-fe125d9ca7e9",
   "metadata": {},
   "source": [
    "Ans.Indentation is mandatory in python to define the blocks of statements. It is preferred to use whitespaces instead of tabs to indent in python. Python uses four spaces as default indentation spaces."
   ]
  }
 ],
 "metadata": {
  "kernelspec": {
   "display_name": "Python 3 (ipykernel)",
   "language": "python",
   "name": "python3"
  },
  "language_info": {
   "codemirror_mode": {
    "name": "ipython",
    "version": 3
   },
   "file_extension": ".py",
   "mimetype": "text/x-python",
   "name": "python",
   "nbconvert_exporter": "python",
   "pygments_lexer": "ipython3",
   "version": "3.10.8"
  }
 },
 "nbformat": 4,
 "nbformat_minor": 5
}
