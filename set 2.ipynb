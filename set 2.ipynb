{
 "cells": [
  {
   "cell_type": "markdown",
   "id": "47e0f634-71e5-4f92-9577-e2630e07e5fd",
   "metadata": {},
   "source": [
    "Q1.Create a list in python using the followings: 2,3,4,5,6,7 with variable ‘a’\n",
    "Add ‘mango to the above list\n",
    "Also add banana, grapes & orange in the list \n",
    "insert apple in the 5th position of a variable ‘a’\n",
    "Remove last item from the list\n"
   ]
  },
  {
   "cell_type": "code",
   "execution_count": 8,
   "id": "67565965-3b0e-40d0-bdea-ffa5c86799f7",
   "metadata": {},
   "outputs": [
    {
     "name": "stdout",
     "output_type": "stream",
     "text": [
      "[2, 3, 4, 5, 6, 'a', 7, 'mango', 'banana', 'grapes']\n"
     ]
    }
   ],
   "source": [
    "l = [2, 3, 4, 5, 6, 7]\n",
    "l.append(\"mango\")\n",
    "l.extend([\"banana\", \"grapes\", \"orange\"])\n",
    "l.insert(5, \"a\")\n",
    "l.pop()\n",
    "\n",
    "print(l)"
   ]
  },
  {
   "cell_type": "markdown",
   "id": "398a7fca-44a2-488b-b048-f9bfff23ed64",
   "metadata": {},
   "source": [
    "Q2.\n",
    "L = [1,2,3,4,5,6,7]\n",
    "Using the above list slice from 1:4"
   ]
  },
  {
   "cell_type": "code",
   "execution_count": 10,
   "id": "1c7898e0-4ed9-43bd-900a-6ebb649262ad",
   "metadata": {},
   "outputs": [
    {
     "data": {
      "text/plain": [
       "[2, 3, 4]"
      ]
     },
     "execution_count": 10,
     "metadata": {},
     "output_type": "execute_result"
    }
   ],
   "source": [
    "L = [1, 2, 3, 4, 5, 6, 7]\n",
    "L[1:4]"
   ]
  },
  {
   "cell_type": "markdown",
   "id": "aac088ec-0356-4d31-98ae-57ae9fa31f1d",
   "metadata": {},
   "source": [
    "Q3.Reverse the order of given string L = [4,5,6,8,3]"
   ]
  },
  {
   "cell_type": "code",
   "execution_count": 13,
   "id": "fba4b1bb-9b08-4106-8856-f6ef0305c7c3",
   "metadata": {},
   "outputs": [
    {
     "name": "stdout",
     "output_type": "stream",
     "text": [
      "[3, 8, 6, 5, 4]\n"
     ]
    }
   ],
   "source": [
    "l = [4, 5, 6, 8, 3]\n",
    "l.reverse()\n",
    "print(l)"
   ]
  },
  {
   "cell_type": "markdown",
   "id": "b6239c14-715d-455f-ac2f-acfefa5fb13b",
   "metadata": {},
   "source": [
    "Q4.Use list comprehension to square the given list L=[2,4,7,3,6,8]\n"
   ]
  },
  {
   "cell_type": "code",
   "execution_count": 19,
   "id": "b4b718ca-c6e5-48a4-84db-47023d159953",
   "metadata": {},
   "outputs": [
    {
     "name": "stdout",
     "output_type": "stream",
     "text": [
      "[4, 16, 49, 9, 36, 64]\n"
     ]
    }
   ],
   "source": [
    "l = [2, 4, 7, 3, 6, 8]\n",
    "l1 = [ i**2 for i in l]\n",
    "print(l1)\n"
   ]
  },
  {
   "cell_type": "markdown",
   "id": "15f8e4de-566e-4f92-aeb6-e50dd89b5022",
   "metadata": {},
   "source": [
    "Q5.Create a function that takes in a tuple of integers and returns the sum of the integers. Test the function with a tuple of your choice."
   ]
  },
  {
   "cell_type": "code",
   "execution_count": 22,
   "id": "924f2ff1-9de4-43ca-94f3-9b25f4580705",
   "metadata": {},
   "outputs": [
    {
     "name": "stdout",
     "output_type": "stream",
     "text": [
      "21\n"
     ]
    }
   ],
   "source": [
    "def s_tuple( *integers):\n",
    "    return sum(*integers)\n",
    "\n",
    "s1_tuple = (9, 2, 4, 6)\n",
    "print(s_tuple(s1_tuple))\n"
   ]
  },
  {
   "cell_type": "markdown",
   "id": "828e9371-8f05-4ff1-a6d3-d70bbd5c4bff",
   "metadata": {},
   "source": [
    "Q6.Create two sets of your favorite fruits, and use the union() method to combine them into a single set. Print the resulting set to the console.\n"
   ]
  },
  {
   "cell_type": "code",
   "execution_count": 23,
   "id": "bcc9ef81-f714-49fc-91c5-6c35f7ac6215",
   "metadata": {},
   "outputs": [
    {
     "name": "stdout",
     "output_type": "stream",
     "text": [
      "{'orange', 'mango', 'papaya', 'kiwi', 'apple', 'grapes'}\n"
     ]
    }
   ],
   "source": [
    "s1 = {\"mango\", \"grapes\", \"apple\"}\n",
    "s2 = {\"papaya\", \"orange\", \"kiwi\"}\n",
    "\n",
    "print(s1 | s2)"
   ]
  },
  {
   "cell_type": "markdown",
   "id": "e296a1bf-aaaa-4e62-89fc-b76819e0f3e6",
   "metadata": {},
   "source": [
    "Q7.Create a set of random words, and use the add() method to add a new word to the set. Print the resulting set to the console.\n"
   ]
  },
  {
   "cell_type": "code",
   "execution_count": 24,
   "id": "3b02bb47-eafd-49e8-96f4-f03abe2efcd3",
   "metadata": {},
   "outputs": [
    {
     "name": "stdout",
     "output_type": "stream",
     "text": [
      "{'phone', 'pencils', 'books', 'boxes', 'paper'}\n"
     ]
    }
   ],
   "source": [
    "s1 = {\"books\", \"pencils\", \"paper\", \"boxes\"}\n",
    "s1.add(\"phone\")\n",
    "print(s1)"
   ]
  },
  {
   "cell_type": "markdown",
   "id": "e433cde8-b8ca-4f40-8725-a18e5108e294",
   "metadata": {},
   "source": [
    "Q8.Create a set of your favorite animals, and use the remove() method to remove one animal from the set. Print the resulting set to the console.\n"
   ]
  },
  {
   "cell_type": "code",
   "execution_count": 25,
   "id": "a7085a15-e896-42c4-bc7c-160df32641b2",
   "metadata": {},
   "outputs": [
    {
     "name": "stdout",
     "output_type": "stream",
     "text": [
      "{'camel', 'sheep', 'dog'}\n"
     ]
    }
   ],
   "source": [
    "s1 = {\"cat\", \"dog\", \"camel\", \"sheep\"}\n",
    "s1.remove(\"cat\")\n",
    "print(s1)"
   ]
  },
  {
   "cell_type": "markdown",
   "id": "7eee0b94-6a46-470f-8af0-4bc796d00f42",
   "metadata": {},
   "source": [
    "Q9.favorite_books = {\"1984\", \"To Kill a Mockingbird\", \"Pride and Prejudice\"}\n",
    "      favorite_movies = [\"The Shawshank Redemption\", \"The Godfather\", \"The Dark Knight\"]\n",
    "      Use the zip() function to combine the book set and movie list into a list of tuples representing book/movie pairs. \n",
    "      Print the resulting list.\n"
   ]
  },
  {
   "cell_type": "code",
   "execution_count": 26,
   "id": "cc79f6d2-b0ac-450a-8c77-05cf5559733b",
   "metadata": {},
   "outputs": [
    {
     "name": "stdout",
     "output_type": "stream",
     "text": [
      "[('1984', 'The Shawshank Redemption'), ('Pride and Prejudice', 'The Godfather'), ('To Kill a Mockingbird', 'The Dark Knight')]\n"
     ]
    }
   ],
   "source": [
    "favorite_books = {\"1984\", \"To Kill a Mockingbird\", \"Pride and Prejudice\"}\n",
    "favorite_movies = [\"The Shawshank Redemption\", \"The Godfather\", \"The Dark Knight\"]\n",
    "my_list = list(zip(favorite_books , favorite_movies))\n",
    "print(my_list)"
   ]
  },
  {
   "cell_type": "markdown",
   "id": "f7f44c60-b6ff-42da-bf3a-1872a83fbf09",
   "metadata": {},
   "source": [
    "Q10.Write a Python program to find the difference between consecutive numbers in a list.\n"
   ]
  },
  {
   "cell_type": "code",
   "execution_count": 48,
   "id": "79cd1e89-d8c1-478f-8e40-5873658e9195",
   "metadata": {},
   "outputs": [
    {
     "name": "stdout",
     "output_type": "stream",
     "text": [
      "The original list is : [1, 4, 5, 3, 6]\n",
      "The computed successive difference list is : [3, 1, -2, 3]\n"
     ]
    }
   ],
   "source": [
    "test_list = [1, 4, 5, 3, 6]\n",
    " \n",
    "# printing original list\n",
    "print (\"The original list is : \" + str(test_list))\n",
    " \n",
    "# using zip()\n",
    "# generate successive difference list\n",
    "res = [j - i for i, j in zip(test_list[: -1], test_list[1 :])]\n",
    " \n",
    "# printing result\n",
    "print (\"The computed successive difference list is : \" + str(res))"
   ]
  }
 ],
 "metadata": {
  "kernelspec": {
   "display_name": "Python 3 (ipykernel)",
   "language": "python",
   "name": "python3"
  },
  "language_info": {
   "codemirror_mode": {
    "name": "ipython",
    "version": 3
   },
   "file_extension": ".py",
   "mimetype": "text/x-python",
   "name": "python",
   "nbconvert_exporter": "python",
   "pygments_lexer": "ipython3",
   "version": "3.10.8"
  }
 },
 "nbformat": 4,
 "nbformat_minor": 5
}
