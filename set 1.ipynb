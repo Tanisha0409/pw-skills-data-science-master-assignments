{
 "cells": [
  {
   "cell_type": "markdown",
   "id": "6ae009bc-77dc-414f-910d-8d6830bdc752",
   "metadata": {},
   "source": [
    "1.Write a Python program that defines a function called \"add_numbers\" that takes two arguments (i.e., numbers) and returns their sum. Within the function, add the two numbers together and return the result using the return statement. Call the function with the values 5 and 6, and print out the returned result. This will result in the addition of 5 and 6, with the output of the program being the sum of these two numbers."
   ]
  },
  {
   "cell_type": "code",
   "execution_count": 1,
   "id": "e5c7976d-2dc7-4be4-b712-90e31f931a96",
   "metadata": {},
   "outputs": [
    {
     "name": "stdout",
     "output_type": "stream",
     "text": [
      "11\n"
     ]
    }
   ],
   "source": [
    "def add_numbers(a,b):\n",
    "    return (a+b)\n",
    "\n",
    "a = add_numbers(5,6)\n",
    "print(a)"
   ]
  },
  {
   "cell_type": "markdown",
   "id": "826354b7-a214-4832-a3df-41f21faf7119",
   "metadata": {},
   "source": [
    "2.Write a Python program that calculates the square root of a given number using a built-in function. Specifically, the program should take an integer or float input from the user, calculate its square root using the 'sqrt()' function from the 'math' module, and print out the result to the user. As an example, calculate the square root of the number 625 using this program, which should output the value of 25."
   ]
  },
  {
   "cell_type": "code",
   "execution_count": 2,
   "id": "b098faa2-c6e4-4232-bb98-989b12c2afd7",
   "metadata": {},
   "outputs": [
    {
     "name": "stdin",
     "output_type": "stream",
     "text": [
      "enter a number:  625\n"
     ]
    },
    {
     "name": "stdout",
     "output_type": "stream",
     "text": [
      "square root is:  25.0\n"
     ]
    }
   ],
   "source": [
    "import math\n",
    "n = int(input(\"enter a number: \"))\n",
    "s = math.sqrt(n)\n",
    "\n",
    "print(\"square root is: \", s)"
   ]
  },
  {
   "cell_type": "markdown",
   "id": "29d8908a-49d2-4982-a230-d437c22e69be",
   "metadata": {},
   "source": [
    "3.Write a program that prints all prime numbers between 0 to 50."
   ]
  },
  {
   "cell_type": "code",
   "execution_count": 9,
   "id": "34eb18e8-1ae2-4299-a0ec-15e73fc733b9",
   "metadata": {},
   "outputs": [
    {
     "name": "stdout",
     "output_type": "stream",
     "text": [
      "2\n",
      "3\n",
      "5\n",
      "7\n",
      "11\n",
      "13\n",
      "17\n",
      "19\n",
      "23\n",
      "29\n",
      "31\n",
      "37\n",
      "41\n",
      "43\n",
      "47\n"
     ]
    }
   ],
   "source": [
    "for number in range(2, 51):\n",
    "    is_prime = True\n",
    "    for i in range(2, number):\n",
    "        if number % i == 0:\n",
    "            is_prime = False\n",
    "            break\n",
    "    if is_prime:\n",
    "        print(number)"
   ]
  },
  {
   "cell_type": "markdown",
   "id": "5934fb57-42b1-4530-a61a-1c9470e2e090",
   "metadata": {},
   "source": [
    "4. How can we swap the values of three variables (let's say a, b, and c) without using a fourth variable? For example, if we have a=5, b=8, and c=9, how can we obtain a=9, b=5, and c=8? The challenge is to perform this operation without using an additional variable to store any of the values during the swapping process.\n",
    "\n"
   ]
  },
  {
   "cell_type": "code",
   "execution_count": 10,
   "id": "724a6613-4517-4224-8482-ccf21a2cdf23",
   "metadata": {},
   "outputs": [
    {
     "name": "stdout",
     "output_type": "stream",
     "text": [
      "a:  9\n",
      "b:  5\n",
      "c:  8\n"
     ]
    }
   ],
   "source": [
    "a = 5\n",
    "b = 8\n",
    "c = 9\n",
    "\n",
    "a, b, c = c, a, b\n",
    "print(\"a: \",a)\n",
    "print(\"b: \",b)\n",
    "print(\"c: \",c)"
   ]
  },
  {
   "cell_type": "markdown",
   "id": "aa51b842-b187-4307-8827-be151b5fdfcd",
   "metadata": {},
   "source": [
    "5.Can you write a program that determines the nature of a given number (in this case, 87) as being positive, negative, or zero? The program should be designed to take the number as input and perform the necessary calculations to determine if the number is positive (i.e., greater than zero), negative (i.e., less than zero), or zero (i.e., equal to zero). The output of the program should indicate which of these three categories the given number falls into."
   ]
  },
  {
   "cell_type": "code",
   "execution_count": 11,
   "id": "2556935e-3b07-4985-a6db-66da4819bbe7",
   "metadata": {},
   "outputs": [
    {
     "name": "stdin",
     "output_type": "stream",
     "text": [
      "enter a number:  87\n"
     ]
    },
    {
     "name": "stdout",
     "output_type": "stream",
     "text": [
      "87  positive number\n"
     ]
    }
   ],
   "source": [
    "n = int(input(\"enter a number: \"))\n",
    "if (n>0):\n",
    "    print(n,\" positive number\")\n",
    "elif (n<0):\n",
    "    print(n,\" negative number\")\n",
    "else:\n",
    "    print(n,\" zero\")"
   ]
  },
  {
   "cell_type": "markdown",
   "id": "881387d4-6cb6-4d43-bc08-f7dbbf44587b",
   "metadata": {},
   "source": [
    "6.How can you create a program that determines whether a given number (in this case, 98) is even or odd? The program should be designed to take the number as input and perform the necessary calculations to determine whether it is divisible by two. If the number is divisible by two without leaving a remainder, it is an even number, and if there is a remainder, it is an odd number. The output of the program should indicate whether the given number is even or odd."
   ]
  },
  {
   "cell_type": "code",
   "execution_count": 12,
   "id": "e9b58de5-baf5-41f6-bccc-5a8b8f80a49e",
   "metadata": {},
   "outputs": [
    {
     "name": "stdin",
     "output_type": "stream",
     "text": [
      "enter a number:  98\n"
     ]
    },
    {
     "name": "stdout",
     "output_type": "stream",
     "text": [
      "98 even number\n"
     ]
    }
   ],
   "source": [
    "n = int(input(\"enter a number: \"))\n",
    "if (n%2 == 0):\n",
    "    print(n, \"even number\")\n",
    "else:\n",
    "    print(n,\" odd number\")"
   ]
  },
  {
   "cell_type": "markdown",
   "id": "74cfadf3-0a25-463f-9560-05acd87f6a5d",
   "metadata": {},
   "source": [
    "7.Write a program for sum of digits.the digits are 76543 and the output should be 25."
   ]
  },
  {
   "cell_type": "code",
   "execution_count": 15,
   "id": "35830cd6-fa5d-4637-833d-09e8451ff1ac",
   "metadata": {},
   "outputs": [
    {
     "name": "stdin",
     "output_type": "stream",
     "text": [
      "enter a number:  76543\n"
     ]
    },
    {
     "name": "stdout",
     "output_type": "stream",
     "text": [
      "sum of digits are:  25\n"
     ]
    }
   ],
   "source": [
    "n = int(input(\"enter a number: \"))\n",
    "s = 0\n",
    "while (n>0):\n",
    "    m = n%10\n",
    "    s = s+m\n",
    "    n = n//10\n",
    "print(\"sum of digits are: \", s)\n",
    "\n",
    "    "
   ]
  },
  {
   "cell_type": "markdown",
   "id": "b133cab4-345e-4d51-a36c-2e40730e3231",
   "metadata": {},
   "source": [
    "8. Write a program for reversing the given number  5436 and the output  should be 6345.\n"
   ]
  },
  {
   "cell_type": "code",
   "execution_count": 16,
   "id": "8d9d7d32-5973-4929-80cd-78ba08a388d6",
   "metadata": {},
   "outputs": [
    {
     "name": "stdin",
     "output_type": "stream",
     "text": [
      "enter a number:  5436\n"
     ]
    },
    {
     "name": "stdout",
     "output_type": "stream",
     "text": [
      "reversed number of  0 is 6345\n"
     ]
    }
   ],
   "source": [
    "n = int(input(\"enter a number: \"))\n",
    "r = 0\n",
    "\n",
    "while (n>0):\n",
    "    m = n%10\n",
    "    r = (r*10) + m\n",
    "    n = n//10\n",
    "    \n",
    "print(\"reversed number is\" ,r)    \n",
    "        "
   ]
  },
  {
   "cell_type": "markdown",
   "id": "9d132139-053d-4435-bb61-af6ba7a51972",
   "metadata": {},
   "source": [
    "9.Write a program to check  a given number 371 is an Armstrong number?"
   ]
  },
  {
   "cell_type": "code",
   "execution_count": 17,
   "id": "e389fdfc-7fe6-428c-b712-4fa5068d7c44",
   "metadata": {},
   "outputs": [
    {
     "name": "stdin",
     "output_type": "stream",
     "text": [
      "enter a number:  371\n"
     ]
    },
    {
     "name": "stdout",
     "output_type": "stream",
     "text": [
      "this is a armstrong number\n"
     ]
    }
   ],
   "source": [
    "n = int(input(\"enter a number: \"))\n",
    "armstrong = n\n",
    "r = 0\n",
    "\n",
    "while (n>0):\n",
    "    m = n%10\n",
    "    r = r + (m**3)\n",
    "    n = n//10\n",
    "if (armstrong == r):\n",
    "    print(\"this is a armstrong number\")\n",
    "else:\n",
    "    print(\"this is not a armstrong number\")\n",
    "    "
   ]
  },
  {
   "cell_type": "markdown",
   "id": "62414a31-7d0c-4126-9049-423e7b62998b",
   "metadata": {},
   "source": [
    "10. Write a program the given year is 1996  a leap year."
   ]
  },
  {
   "cell_type": "code",
   "execution_count": 18,
   "id": "b821aaed-7b43-4da2-b9cb-4c51a61c2fa0",
   "metadata": {},
   "outputs": [
    {
     "name": "stdin",
     "output_type": "stream",
     "text": [
      "enter a year:  1996\n"
     ]
    },
    {
     "name": "stdout",
     "output_type": "stream",
     "text": [
      "1996 is a leap year\n"
     ]
    }
   ],
   "source": [
    "y = int(input(\"enter a year: \"))\n",
    "\n",
    "if (((y%4 == 0) and (y%100 != 0)) or (y%400 == 0)):\n",
    "    print(y, \"is a leap year\")\n",
    "else:\n",
    "    print(y, \"is not a leap year\")"
   ]
  },
  {
   "cell_type": "code",
   "execution_count": null,
   "id": "42c4630a-f413-430f-a5b2-ee319aa70b23",
   "metadata": {},
   "outputs": [],
   "source": []
  }
 ],
 "metadata": {
  "kernelspec": {
   "display_name": "Python 3 (ipykernel)",
   "language": "python",
   "name": "python3"
  },
  "language_info": {
   "codemirror_mode": {
    "name": "ipython",
    "version": 3
   },
   "file_extension": ".py",
   "mimetype": "text/x-python",
   "name": "python",
   "nbconvert_exporter": "python",
   "pygments_lexer": "ipython3",
   "version": "3.10.8"
  }
 },
 "nbformat": 4,
 "nbformat_minor": 5
}
