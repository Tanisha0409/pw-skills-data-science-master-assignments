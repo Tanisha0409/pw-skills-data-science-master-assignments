{
 "cells": [
  {
   "cell_type": "markdown",
   "id": "e3a0e9ce-01c3-4c7d-b2e4-91dbe0b887bd",
   "metadata": {},
   "source": [
    "Q1. Create a python program to sort the given list of tuples based on integer value usinfg a lambda function."
   ]
  },
  {
   "cell_type": "markdown",
   "id": "1088541e-618f-4d5c-bdac-cfceca652d5a",
   "metadata": {},
   "source": [
    "[('Sachin Tendulkar', 34357), ('Ricky Ponting', 27483), ('Jack Kallis',25534), ('Virat Kohli', 24936)]"
   ]
  },
  {
   "cell_type": "code",
   "execution_count": 1,
   "id": "908e3b00-3339-4d4f-8685-ef5bf0b7057e",
   "metadata": {},
   "outputs": [
    {
     "name": "stdout",
     "output_type": "stream",
     "text": [
      "[('Virat Kohli', 24936), ('Jack Kallis', 25534), ('Ricky Ponting', 27483), ('Sachin Tendulkar', 34357)]\n"
     ]
    }
   ],
   "source": [
    "l = [('Sachin Tendulkar', 34357), ('Ricky Ponting', 27483), ('Jack Kallis',25534), ('Virat Kohli', 24936)]\n",
    "l.sort(key = lambda x: x[1])\n",
    "print(l)"
   ]
  },
  {
   "cell_type": "markdown",
   "id": "4ea4f621-59df-4d62-a836-14ee1c0995c0",
   "metadata": {},
   "source": [
    "Q2. Write a python program to find the squares of all the numbers in the given list of integers using lambda and map functions."
   ]
  },
  {
   "cell_type": "markdown",
   "id": "7081fbe2-4b8f-4e78-92ad-85b17af7df30",
   "metadata": {},
   "source": [
    "l = [1, 2, 3, 4, 5, 6, 7, 8, 9, 10]"
   ]
  },
  {
   "cell_type": "code",
   "execution_count": 3,
   "id": "7af724ee-1a9e-45ba-9096-dae1b56b2b13",
   "metadata": {},
   "outputs": [
    {
     "data": {
      "text/plain": [
       "[1, 4, 9, 16, 25, 36, 49, 64, 81, 100]"
      ]
     },
     "execution_count": 3,
     "metadata": {},
     "output_type": "execute_result"
    }
   ],
   "source": [
    "l = [1, 2, 3, 4, 5, 6, 7, 8, 9, 10]\n",
    "list(map(lambda x: x**2, l))"
   ]
  },
  {
   "cell_type": "markdown",
   "id": "957face4-5a21-4c02-b180-e29cb9e8d7c4",
   "metadata": {},
   "source": [
    "Q3. Write a python program to convert the given integers into tuple of strings. use map and lambda function.\n",
    "\n",
    "[1, 2, 3, 4, 5, 6, 7, 8, 9, 10]"
   ]
  },
  {
   "cell_type": "code",
   "execution_count": 4,
   "id": "ef5f9570-17b6-450d-8bf9-373ad9277649",
   "metadata": {},
   "outputs": [
    {
     "data": {
      "text/plain": [
       "['1', '2', '3', '4', '5', '6', '7', '8', '9', '10']"
      ]
     },
     "execution_count": 4,
     "metadata": {},
     "output_type": "execute_result"
    }
   ],
   "source": [
    "l= [1, 2, 3, 4, 5, 6, 7, 8, 9, 10]\n",
    "list(map(lambda x: str(x), l))"
   ]
  },
  {
   "cell_type": "markdown",
   "id": "601c1609-ada3-4ca6-be87-6d326b246475",
   "metadata": {},
   "source": [
    "Q4. Write a python program using reduce function to compute the product of a list containing numbers from 1 to 25."
   ]
  },
  {
   "cell_type": "code",
   "execution_count": 1,
   "id": "4ae01403-82dc-4a2e-b51f-25989bbe08c2",
   "metadata": {},
   "outputs": [
    {
     "data": {
      "text/plain": [
       "15511210043330985984000000"
      ]
     },
     "execution_count": 1,
     "metadata": {},
     "output_type": "execute_result"
    }
   ],
   "source": [
    "from functools import reduce\n",
    "r = range(1, 26)\n",
    "l = list(r)\n",
    "reduce(lambda x,y : x*y, l)"
   ]
  },
  {
   "cell_type": "markdown",
   "id": "08f82755-d79d-4891-8787-ae0297fe1173",
   "metadata": {},
   "source": [
    "Q5. Write a python program to filter the numbers in a given list that are divided by 2 and 3 using filter function.\n",
    "\n",
    "[2, 3, 6, 9, 27, 60, 120, 55, 46]"
   ]
  },
  {
   "cell_type": "code",
   "execution_count": 1,
   "id": "869e84da-6582-4622-b8c7-6eab61b0927c",
   "metadata": {},
   "outputs": [
    {
     "data": {
      "text/plain": [
       "[6, 60, 120]"
      ]
     },
     "execution_count": 1,
     "metadata": {},
     "output_type": "execute_result"
    }
   ],
   "source": [
    "def test(num):\n",
    "    if ((num%2 == 0) and (num%3 == 0)):\n",
    "        return num\n",
    "l = [2, 3, 6, 9, 27, 60, 120, 55, 46] \n",
    "list(filter(test, l))"
   ]
  },
  {
   "cell_type": "markdown",
   "id": "665bcdc8-b4f3-40a7-b09b-5be90aaabd36",
   "metadata": {},
   "source": [
    "Q6. Write a python program to find palindromes in the given list of string using lambda and filter function.\n",
    "\n",
    "['python', 'php', 'radar', 'level']"
   ]
  },
  {
   "cell_type": "code",
   "execution_count": 2,
   "id": "320f55aa-c025-4ad1-9054-947d93e1c4bf",
   "metadata": {},
   "outputs": [
    {
     "data": {
      "text/plain": [
       "['php', 'radar', 'level']"
      ]
     },
     "execution_count": 2,
     "metadata": {},
     "output_type": "execute_result"
    }
   ],
   "source": [
    "l = ['python', 'php', 'radar', 'level']\n",
    "list(filter(lambda x: (x == x [::-1]),l))"
   ]
  },
  {
   "cell_type": "code",
   "execution_count": null,
   "id": "641902c0-cd0b-450c-9003-74ffbca42b2a",
   "metadata": {},
   "outputs": [],
   "source": []
  }
 ],
 "metadata": {
  "kernelspec": {
   "display_name": "Python 3 (ipykernel)",
   "language": "python",
   "name": "python3"
  },
  "language_info": {
   "codemirror_mode": {
    "name": "ipython",
    "version": 3
   },
   "file_extension": ".py",
   "mimetype": "text/x-python",
   "name": "python",
   "nbconvert_exporter": "python",
   "pygments_lexer": "ipython3",
   "version": "3.10.8"
  }
 },
 "nbformat": 4,
 "nbformat_minor": 5
}
